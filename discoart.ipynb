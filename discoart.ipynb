{
 "cells": [
  {
   "cell_type": "markdown",
   "id": "ba4a6587",
   "metadata": {
    "pycharm": {
     "name": "#%% md\n"
    }
   },
   "source": [
    "<img src=\"https://github.com/jina-ai/discoart/blob/main/.github/banner.png?raw=true\" alt=\"Create Disco Diffusion artworks in one-line\">\n",
    "<p align=center>\n",
    "<a href=\"https://pypi.org/project/discoart/\"><img src=\"https://img.shields.io/pypi/v/discoart?style=flat-square&amp;label=Release\" alt=\"PyPI\"></a>\n",
    "<a href=\"https://slack.jina.ai\"><img src=\"https://img.shields.io/badge/Slack-3.1k-blueviolet?logo=slack&amp;logoColor=white&style=flat-square\"></a>\n",
    "<a href=\"https://colab.research.google.com/github/jina-ai/dalle-flow/blob/main/client.ipynb\"><img src=\"https://img.shields.io/badge/Open-in%20Colab-brightgreen?logo=google-colab&style=flat-square\" alt=\"Open in Google Colab\"/></a>\n",
    "</p>\n",
    "\n",
    "😎 **If you are already a DD user**: you are ready to go! There is no extra learning, DiscoArt respects the same parameter semantics as DD5.2. So just unleash your creativity! [Read more about DiscoArt vs. DD5.5](https://github.com/jina-ai/discoart/blob/main/FEATURES.md)\n",
    "\n",
    "You can always do `from discoart import cheatsheet; cheatsheet()` to check all new/modified parameters, DiscoArt specific parameters are highlighted in the cheatsheet. \n",
    "\n",
    "\n",
    "\n",
    "👶 **If you are a [DALL·E Flow](https://github.com/jina-ai/dalle-flow/) or new user**: you may want to take step by step, as Disco Diffusion works in a very different way than DALL·E. It is much more advanced and powerful: e.g. Disco Diffusion can take weighted & structured text prompts; it can initialize from a image with controlled noise; and there are way more parameters one can tweak. Impatient prompt like `\"armchair avocado\"` will give you nothing but confusion and frustration. I highly recommend you to check out the following resources before trying your own prompt:\n",
    "- [Zippy's Disco Diffusion Cheatsheet v0.3](https://docs.google.com/document/d/1l8s7uS2dGqjztYSjPpzlmXLjl5PM3IGkRWI3IiCuK7g/mobilebasic)\n",
    "- [EZ Charts - Diffusion Parameter Studies](https://docs.google.com/document/d/1ORymHm0Te18qKiHnhcdgGp-WSt8ZkLZvow3raiu2DVU/edit#)\n",
    "- [Disco Diffusion 70+ Artist Studies](https://weirdwonderfulai.art/resources/disco-diffusion-70-plus-artist-studies/)\n",
    "- [A Traveler’s Guide to the Latent Space](https://sweet-hall-e72.notion.site/A-Traveler-s-Guide-to-the-Latent-Space-85efba7e5e6a40e5bd3cae980f30235f#e122e748b86e4fc0ad6a7a50e46d6e10)\n",
    "- [Disco Diffusion Illustrated Settings](https://coar.notion.site/Disco-Diffusion-Illustrated-Settings-cd4badf06e08440c99d8a93d4cd39f51)\n",
    "- [Coar’s Disco Diffusion Guide](https://coar.notion.site/coar/Coar-s-Disco-Diffusion-Guide-3d86d652c15d4ca986325e808bde06aa#8a3c6e9e4b6847afa56106eacb6f1f79)\n",
    "\n",
    "# Install"
   ]
  },
  {
   "cell_type": "code",
   "execution_count": null,
   "id": "ca392ef6",
   "metadata": {
    "pycharm": {
     "name": "#%%\n"
    }
   },
   "outputs": [],
   "source": [
    "!pip install -U discoart"
   ]
  },
  {
   "cell_type": "markdown",
   "id": "47428f37",
   "metadata": {
    "pycharm": {
     "name": "#%% md\n"
    }
   },
   "source": [
    "\n",
    "---\n",
    "\n",
    "# Create artworks"
   ]
  },
  {
   "cell_type": "code",
   "execution_count": null,
   "id": "78f39415",
   "metadata": {
    "pycharm": {
     "name": "#%%\n"
    }
   },
   "outputs": [],
   "source": [
    "from discoart import create\n",
    "\n",
    "da = create()"
   ]
  },
  {
   "cell_type": "markdown",
   "id": "6269fd20",
   "metadata": {
    "pycharm": {
     "name": "#%% md\n"
    }
   },
   "source": [
    "That's it. It is that simple."
   ]
  },
  {
   "cell_type": "markdown",
   "id": "d36983b6",
   "metadata": {
    "pycharm": {
     "name": "#%% md\n"
    }
   },
   "source": [
    "# Specify parameters"
   ]
  },
  {
   "cell_type": "code",
   "execution_count": 1,
   "id": "fbf748c5",
   "metadata": {
    "pycharm": {
     "name": "#%%\n"
    }
   },
   "outputs": [
    {
     "data": {
      "text/html": [
       "<pre style=\"white-space:pre;overflow-x:auto;line-height:normal;font-family:Menlo,'DejaVu Sans Mono',consolas,'Courier New',monospace\"><span style=\"font-style: italic\">                                     discoart-713279665b5511edbbb90242ac110002                                     </span>\n",
       "╭────────────────────────────┬────────────────────────────────────────────────────────────────────────────────────╮\n",
       "│<span style=\"font-weight: bold\">                   Argument </span>│<span style=\"font-weight: bold\"> Value                                                                              </span>│\n",
       "├────────────────────────────┼────────────────────────────────────────────────────────────────────────────────────┤\n",
       "│                 batch_name │ <span style=\"color: #800080; text-decoration-color: #800080; font-style: italic\">None</span>                                                                               │\n",
       "│                 batch_size │ <span style=\"color: #008080; text-decoration-color: #008080; font-weight: bold\">1</span>                                                                                  │\n",
       "│                 clamp_grad │ <span style=\"color: #00ff00; text-decoration-color: #00ff00; font-style: italic\">True</span>                                                                               │\n",
       "│                  clamp_max │ <span style=\"color: #008080; text-decoration-color: #008080; font-weight: bold\">0.05</span>                                                                               │\n",
       "│              clip_denoised │ <span style=\"color: #ff0000; text-decoration-color: #ff0000; font-style: italic\">False</span>                                                                              │\n",
       "│        clip_guidance_scale │ <span style=\"color: #008080; text-decoration-color: #008080; font-weight: bold\">5000</span>                                                                               │\n",
       "│                clip_models │ <span style=\"font-weight: bold\">[</span><span style=\"color: #008000; text-decoration-color: #008000\">'ViT-B-32::openai'</span>, <span style=\"color: #008000; text-decoration-color: #008000\">'ViT-B-16::openai'</span>, <span style=\"color: #008000; text-decoration-color: #008000\">'RN50::openai'</span><span style=\"font-weight: bold\">]</span>                           │\n",
       "│      clip_models_schedules │ <span style=\"color: #800080; text-decoration-color: #800080; font-style: italic\">None</span>                                                                               │\n",
       "│                 cut_ic_pow │ <span style=\"color: #008080; text-decoration-color: #008080; font-weight: bold\">1.0</span>                                                                                │\n",
       "│               cut_icgray_p │ <span style=\"font-weight: bold\">[</span><span style=\"color: #008080; text-decoration-color: #008080; font-weight: bold\">0.2</span><span style=\"font-weight: bold\">]</span>*<span style=\"color: #008080; text-decoration-color: #008080; font-weight: bold\">400</span>+<span style=\"font-weight: bold\">[</span><span style=\"color: #008080; text-decoration-color: #008080; font-weight: bold\">0</span><span style=\"font-weight: bold\">]</span>*<span style=\"color: #008080; text-decoration-color: #008080; font-weight: bold\">600</span>                                                                  │\n",
       "│               cut_innercut │ <span style=\"font-weight: bold\">[</span><span style=\"color: #008080; text-decoration-color: #008080; font-weight: bold\">4</span><span style=\"font-weight: bold\">]</span>*<span style=\"color: #008080; text-decoration-color: #008080; font-weight: bold\">400</span>+<span style=\"font-weight: bold\">[</span><span style=\"color: #008080; text-decoration-color: #008080; font-weight: bold\">12</span><span style=\"font-weight: bold\">]</span>*<span style=\"color: #008080; text-decoration-color: #008080; font-weight: bold\">600</span>                                                                   │\n",
       "│               cut_overview │ <span style=\"font-weight: bold\">[</span><span style=\"color: #008080; text-decoration-color: #008080; font-weight: bold\">12</span><span style=\"font-weight: bold\">]</span>*<span style=\"color: #008080; text-decoration-color: #008080; font-weight: bold\">400</span>+<span style=\"font-weight: bold\">[</span><span style=\"color: #008080; text-decoration-color: #008080; font-weight: bold\">4</span><span style=\"font-weight: bold\">]</span>*<span style=\"color: #008080; text-decoration-color: #008080; font-weight: bold\">600</span>                                                                   │\n",
       "│        cut_schedules_group │ <span style=\"color: #800080; text-decoration-color: #800080; font-style: italic\">None</span>                                                                               │\n",
       "│               cutn_batches │ <span style=\"color: #008080; text-decoration-color: #008080; font-weight: bold\">4</span>                                                                                  │\n",
       "│            diffusion_model │ 512x512_diffusion_uncond_finetune_008100                                           │\n",
       "│     diffusion_model_config │ <span style=\"color: #800080; text-decoration-color: #800080; font-style: italic\">None</span>                                                                               │\n",
       "│    diffusion_sampling_mode │ ddim                                                                               │\n",
       "│               display_rate │ <span style=\"color: #008080; text-decoration-color: #008080; font-weight: bold\">1</span>                                                                                  │\n",
       "│                        eta │ <span style=\"color: #008080; text-decoration-color: #008080; font-weight: bold\">0.8</span>                                                                                │\n",
       "│                    gif_fps │ <span style=\"color: #008080; text-decoration-color: #008080; font-weight: bold\">20</span>                                                                                 │\n",
       "│             gif_size_ratio │ <span style=\"color: #008080; text-decoration-color: #008080; font-weight: bold\">0.5</span>                                                                                │\n",
       "│               image_output │ <span style=\"color: #00ff00; text-decoration-color: #00ff00; font-style: italic\">True</span>                                                                               │\n",
       "│                 init_image │ <span style=\"color: #800080; text-decoration-color: #800080; font-style: italic\">None</span>                                                                               │\n",
       "│                 init_scale │ <span style=\"color: #008080; text-decoration-color: #008080; font-weight: bold\">1000</span>                                                                               │\n",
       "│                  n_batches │ <span style=\"color: #008080; text-decoration-color: #008080; font-weight: bold\">4</span>                                                                                  │\n",
       "│             <span style=\"font-weight: bold\">name_docarray*</span> │ discoart-713279665b5511edbbb90242ac110002                                          │\n",
       "│        on_misspelled_token │ ignore                                                                             │\n",
       "│                perlin_init │ <span style=\"color: #ff0000; text-decoration-color: #ff0000; font-style: italic\">False</span>                                                                              │\n",
       "│                perlin_mode │ mixed                                                                              │\n",
       "│                   rand_mag │ <span style=\"color: #008080; text-decoration-color: #008080; font-weight: bold\">0.05</span>                                                                               │\n",
       "│            randomize_class │ <span style=\"color: #00ff00; text-decoration-color: #00ff00; font-style: italic\">True</span>                                                                               │\n",
       "│                range_scale │ <span style=\"color: #008080; text-decoration-color: #008080; font-weight: bold\">150</span>                                                                                │\n",
       "│                  sat_scale │ <span style=\"color: #008080; text-decoration-color: #008080; font-weight: bold\">0</span>                                                                                  │\n",
       "│                  save_rate │ <span style=\"color: #008080; text-decoration-color: #008080; font-weight: bold\">20</span>                                                                                 │\n",
       "│                      <span style=\"font-weight: bold\">seed*</span> │ <span style=\"color: #008080; text-decoration-color: #008080; font-weight: bold\">1713378064</span>                                                                         │\n",
       "│                 skip_event │ <span style=\"color: #800080; text-decoration-color: #800080; font-style: italic\">None</span>                                                                               │\n",
       "│                <span style=\"font-weight: bold\">skip_steps*</span> │ <span style=\"color: #008080; text-decoration-color: #008080; font-weight: bold\">10</span>                                                                                 │\n",
       "│                      steps │ <span style=\"color: #008080; text-decoration-color: #008080; font-weight: bold\">250</span>                                                                                │\n",
       "│                 stop_event │ <span style=\"color: #800080; text-decoration-color: #800080; font-style: italic\">None</span>                                                                               │\n",
       "│           text_clip_on_cpu │ <span style=\"color: #ff0000; text-decoration-color: #ff0000; font-style: italic\">False</span>                                                                              │\n",
       "│              <span style=\"font-weight: bold\">text_prompts*</span> │ Seen from above is the traditional Chinese village at night, the rural landscape,  │\n",
       "│                            │ the sky is filled with kongming lanterns, the streets are full of people, Chinese  │\n",
       "│                            │ New Year, greg rutkowski, Thomas kinkade, artstation.                              │\n",
       "│     transformation_percent │ <span style=\"font-weight: bold\">[</span><span style=\"color: #008080; text-decoration-color: #008080; font-weight: bold\">0.09</span><span style=\"font-weight: bold\">]</span>                                                                             │\n",
       "│ truncate_overlength_prompt │ <span style=\"color: #ff0000; text-decoration-color: #ff0000; font-style: italic\">False</span>                                                                              │\n",
       "│                   tv_scale │ <span style=\"color: #008080; text-decoration-color: #008080; font-weight: bold\">0</span>                                                                                  │\n",
       "│    use_horizontal_symmetry │ <span style=\"color: #ff0000; text-decoration-color: #ff0000; font-style: italic\">False</span>                                                                              │\n",
       "│        use_secondary_model │ <span style=\"color: #00ff00; text-decoration-color: #00ff00; font-style: italic\">True</span>                                                                               │\n",
       "│      use_vertical_symmetry │ <span style=\"color: #ff0000; text-decoration-color: #ff0000; font-style: italic\">False</span>                                                                              │\n",
       "│             visualize_cuts │ <span style=\"color: #ff0000; text-decoration-color: #ff0000; font-style: italic\">False</span>                                                                              │\n",
       "│               width_height │ <span style=\"font-weight: bold\">[</span><span style=\"color: #008080; text-decoration-color: #008080; font-weight: bold\">1280</span>, <span style=\"color: #008080; text-decoration-color: #008080; font-weight: bold\">768</span><span style=\"font-weight: bold\">]</span>                                                                        │\n",
       "╰────────────────────────────┴────────────────────────────────────────────────────────────────────────────────────╯\n",
       "<span style=\"color: #7f7f7f; text-decoration-color: #7f7f7f; font-style: italic\">                                  showing all args (</span><span style=\"color: #7f7f7f; text-decoration-color: #7f7f7f; font-weight: bold; font-style: italic\">bold *</span><span style=\"color: #7f7f7f; text-decoration-color: #7f7f7f; font-style: italic\"> args are non-default)                                   </span>\n",
       "</pre>\n"
      ],
      "text/plain": [
       "\u001b[3m                                     discoart-713279665b5511edbbb90242ac110002                                     \u001b[0m\n",
       "╭────────────────────────────┬────────────────────────────────────────────────────────────────────────────────────╮\n",
       "│\u001b[1m \u001b[0m\u001b[1m                  Argument\u001b[0m\u001b[1m \u001b[0m│\u001b[1m \u001b[0m\u001b[1mValue                                                                             \u001b[0m\u001b[1m \u001b[0m│\n",
       "├────────────────────────────┼────────────────────────────────────────────────────────────────────────────────────┤\n",
       "│                 batch_name │ \u001b[3;35mNone\u001b[0m                                                                               │\n",
       "│                 batch_size │ \u001b[1;36m1\u001b[0m                                                                                  │\n",
       "│                 clamp_grad │ \u001b[3;92mTrue\u001b[0m                                                                               │\n",
       "│                  clamp_max │ \u001b[1;36m0.05\u001b[0m                                                                               │\n",
       "│              clip_denoised │ \u001b[3;91mFalse\u001b[0m                                                                              │\n",
       "│        clip_guidance_scale │ \u001b[1;36m5000\u001b[0m                                                                               │\n",
       "│                clip_models │ \u001b[1m[\u001b[0m\u001b[32m'ViT-B-32::openai'\u001b[0m, \u001b[32m'ViT-B-16::openai'\u001b[0m, \u001b[32m'RN50::openai'\u001b[0m\u001b[1m]\u001b[0m                           │\n",
       "│      clip_models_schedules │ \u001b[3;35mNone\u001b[0m                                                                               │\n",
       "│                 cut_ic_pow │ \u001b[1;36m1.0\u001b[0m                                                                                │\n",
       "│               cut_icgray_p │ \u001b[1m[\u001b[0m\u001b[1;36m0.2\u001b[0m\u001b[1m]\u001b[0m*\u001b[1;36m400\u001b[0m+\u001b[1m[\u001b[0m\u001b[1;36m0\u001b[0m\u001b[1m]\u001b[0m*\u001b[1;36m600\u001b[0m                                                                  │\n",
       "│               cut_innercut │ \u001b[1m[\u001b[0m\u001b[1;36m4\u001b[0m\u001b[1m]\u001b[0m*\u001b[1;36m400\u001b[0m+\u001b[1m[\u001b[0m\u001b[1;36m12\u001b[0m\u001b[1m]\u001b[0m*\u001b[1;36m600\u001b[0m                                                                   │\n",
       "│               cut_overview │ \u001b[1m[\u001b[0m\u001b[1;36m12\u001b[0m\u001b[1m]\u001b[0m*\u001b[1;36m400\u001b[0m+\u001b[1m[\u001b[0m\u001b[1;36m4\u001b[0m\u001b[1m]\u001b[0m*\u001b[1;36m600\u001b[0m                                                                   │\n",
       "│        cut_schedules_group │ \u001b[3;35mNone\u001b[0m                                                                               │\n",
       "│               cutn_batches │ \u001b[1;36m4\u001b[0m                                                                                  │\n",
       "│            diffusion_model │ 512x512_diffusion_uncond_finetune_008100                                           │\n",
       "│     diffusion_model_config │ \u001b[3;35mNone\u001b[0m                                                                               │\n",
       "│    diffusion_sampling_mode │ ddim                                                                               │\n",
       "│               display_rate │ \u001b[1;36m1\u001b[0m                                                                                  │\n",
       "│                        eta │ \u001b[1;36m0.8\u001b[0m                                                                                │\n",
       "│                    gif_fps │ \u001b[1;36m20\u001b[0m                                                                                 │\n",
       "│             gif_size_ratio │ \u001b[1;36m0.5\u001b[0m                                                                                │\n",
       "│               image_output │ \u001b[3;92mTrue\u001b[0m                                                                               │\n",
       "│                 init_image │ \u001b[3;35mNone\u001b[0m                                                                               │\n",
       "│                 init_scale │ \u001b[1;36m1000\u001b[0m                                                                               │\n",
       "│                  n_batches │ \u001b[1;36m4\u001b[0m                                                                                  │\n",
       "│             \u001b[1mname_docarray*\u001b[0m │ discoart-713279665b5511edbbb90242ac110002                                          │\n",
       "│        on_misspelled_token │ ignore                                                                             │\n",
       "│                perlin_init │ \u001b[3;91mFalse\u001b[0m                                                                              │\n",
       "│                perlin_mode │ mixed                                                                              │\n",
       "│                   rand_mag │ \u001b[1;36m0.05\u001b[0m                                                                               │\n",
       "│            randomize_class │ \u001b[3;92mTrue\u001b[0m                                                                               │\n",
       "│                range_scale │ \u001b[1;36m150\u001b[0m                                                                                │\n",
       "│                  sat_scale │ \u001b[1;36m0\u001b[0m                                                                                  │\n",
       "│                  save_rate │ \u001b[1;36m20\u001b[0m                                                                                 │\n",
       "│                      \u001b[1mseed*\u001b[0m │ \u001b[1;36m1713378064\u001b[0m                                                                         │\n",
       "│                 skip_event │ \u001b[3;35mNone\u001b[0m                                                                               │\n",
       "│                \u001b[1mskip_steps*\u001b[0m │ \u001b[1;36m10\u001b[0m                                                                                 │\n",
       "│                      steps │ \u001b[1;36m250\u001b[0m                                                                                │\n",
       "│                 stop_event │ \u001b[3;35mNone\u001b[0m                                                                               │\n",
       "│           text_clip_on_cpu │ \u001b[3;91mFalse\u001b[0m                                                                              │\n",
       "│              \u001b[1mtext_prompts*\u001b[0m │ Seen from above is the traditional Chinese village at night, the rural landscape,  │\n",
       "│                            │ the sky is filled with kongming lanterns, the streets are full of people, Chinese  │\n",
       "│                            │ New Year, greg rutkowski, Thomas kinkade, artstation.                              │\n",
       "│     transformation_percent │ \u001b[1m[\u001b[0m\u001b[1;36m0.09\u001b[0m\u001b[1m]\u001b[0m                                                                             │\n",
       "│ truncate_overlength_prompt │ \u001b[3;91mFalse\u001b[0m                                                                              │\n",
       "│                   tv_scale │ \u001b[1;36m0\u001b[0m                                                                                  │\n",
       "│    use_horizontal_symmetry │ \u001b[3;91mFalse\u001b[0m                                                                              │\n",
       "│        use_secondary_model │ \u001b[3;92mTrue\u001b[0m                                                                               │\n",
       "│      use_vertical_symmetry │ \u001b[3;91mFalse\u001b[0m                                                                              │\n",
       "│             visualize_cuts │ \u001b[3;91mFalse\u001b[0m                                                                              │\n",
       "│               width_height │ \u001b[1m[\u001b[0m\u001b[1;36m1280\u001b[0m, \u001b[1;36m768\u001b[0m\u001b[1m]\u001b[0m                                                                        │\n",
       "╰────────────────────────────┴────────────────────────────────────────────────────────────────────────────────────╯\n",
       "\u001b[2;3m                                  showing all args (\u001b[0m\u001b[1;2;3mbold *\u001b[0m\u001b[2;3m args are non-default)                                   \u001b[0m\n"
      ]
     },
     "metadata": {},
     "output_type": "display_data"
    }
   ],
   "source": [
    "from discoart import create\n",
    "\n",
    "da = create(\n",
    "       text_prompts='Seen from above is the traditional Chinese village at night, the rural landscape, the sky is filled with kongming lanterns, the streets are full of people, Chinese New Year, greg rutkowski, Thomas kinkade, artstation.',\n",
    "       skip_steps=10)"
   ]
  },
  {
   "cell_type": "markdown",
   "id": "a6ac122d",
   "metadata": {
    "pycharm": {
     "name": "#%% md\n"
    }
   },
   "source": [
    "## Check parameter cheatsheet\n",
    "\n",
    "But what parameters can be used in `create()`? just type `cheatsheet()` to lookup anytime:"
   ]
  },
  {
   "cell_type": "code",
   "execution_count": null,
   "id": "2c6c8306",
   "metadata": {
    "pycharm": {
     "name": "#%%\n"
    }
   },
   "outputs": [],
   "source": [
    "from discoart import cheatsheet\n",
    "\n",
    "cheatsheet()"
   ]
  },
  {
   "cell_type": "markdown",
   "id": "d893ac95",
   "metadata": {
    "pycharm": {
     "name": "#%% md\n"
    }
   },
   "source": [
    "\n",
    "🎉 That's all you need to learn.\n",
    "\n",
    "Of course if you have some extra time, it would be helpful for you to learn the following API of DiscoArt.\n",
    "\n",
    "\n",
    "---\n",
    "\n",
    "## Visualize results\n",
    "\n",
    "\n",
    "Final results and intermediate results are created under the current working directory, e.g.\n",
    "```text\n",
    "./{name-docarray}/{i}-step-{j}.png\n",
    "./{name-docarray}/{i}-progress.png\n",
    "./{name-docarray}/{i}-progress.gif\n",
    "./{name-docarray}/{i}-done.png\n",
    "```\n",
    "\n",
    "![](.github/result-persist.png)\n",
    "\n",
    "where:\n",
    "\n",
    "- `name-docarray` is the name of the run, you can specify it otherwise it is a random name.\n",
    "- `i-*` is up to the value of `n_batches`.\n",
    "- `*-done-*` is the final image on done.\n",
    "- `*-step-*` is the intermediate image at certain step.\n",
    "- `*-progress.png` is the sprite image of all intermediate results so far.\n",
    "- `*-progress.gif` is the animated gif of all intermediate results so far.\n",
    "\n",
    "The save frequency is controlled by `save_rate`.\n"
   ]
  },
  {
   "cell_type": "markdown",
   "id": "df5020e4",
   "metadata": {
    "pycharm": {
     "name": "#%% md\n"
    }
   },
   "source": [
    "## Export configs\n",
    "\n",
    "You can review its parameters from `da[0].tags` or export it as an SVG image:"
   ]
  },
  {
   "cell_type": "code",
   "execution_count": null,
   "id": "0a190a7c",
   "metadata": {
    "pycharm": {
     "name": "#%%\n"
    }
   },
   "outputs": [],
   "source": [
    "from discoart.config import save_config_svg\n",
    "\n",
    "save_config_svg(da, 'my.svg')"
   ]
  },
  {
   "cell_type": "markdown",
   "id": "fe0d4d89",
   "metadata": {
    "pycharm": {
     "name": "#%% md\n"
    }
   },
   "source": [
    "## Pull results anywhere anytime\n",
    "\n",
    "At anytime on any machine, you can pull the real-time results (including paramters, intermedidate diffusion steps, final results) with a session ID:\n",
    "\n",
    "> Please replace `discoart-3205998582` to your own when you run the above 2 cells!"
   ]
  },
  {
   "cell_type": "code",
   "execution_count": null,
   "id": "9db8e4e6",
   "metadata": {
    "pycharm": {
     "name": "#%%\n"
    }
   },
   "outputs": [],
   "source": [
    "from docarray import DocumentArray\n",
    "\n",
    "da = DocumentArray.pull('discoart-3205998582')"
   ]
  },
  {
   "cell_type": "markdown",
   "id": "9ca59262",
   "metadata": {
    "pycharm": {
     "name": "#%% md\n"
    }
   },
   "source": [
    "## Reuse a Document as initial state\n",
    "\n",
    "Consider a Document as a self-contained data with config and image, one can use it as the initial state for the future run. Its `.tags` will be used as the initial parameters; `.uri` if presented will be used as the initial image."
   ]
  },
  {
   "cell_type": "code",
   "execution_count": null,
   "id": "d29a95b0",
   "metadata": {
    "pycharm": {
     "name": "#%%\n"
    }
   },
   "outputs": [],
   "source": [
    "from discoart import create\n",
    "from docarray import DocumentArray\n",
    "\n",
    "da = DocumentArray.pull('discoart-3205998582')\n",
    "\n",
    "create(init_document=da[0],\n",
    "       cut_ic_pow=0.5,\n",
    "       tv_scale=600, \n",
    "       cut_overview='[12]*1000', \n",
    "       cut_innercut='[12]*1000', \n",
    "       use_secondary_model=False)"
   ]
  }
 ],
 "metadata": {
  "accelerator": "GPU",
  "kernelspec": {
   "display_name": "Python 3 (ipykernel)",
   "language": "python",
   "name": "python3"
  },
  "language_info": {
   "codemirror_mode": {
    "name": "ipython",
    "version": 3
   },
   "file_extension": ".py",
   "mimetype": "text/x-python",
   "name": "python",
   "nbconvert_exporter": "python",
   "pygments_lexer": "ipython3",
   "version": "3.8.10"
  }
 },
 "nbformat": 4,
 "nbformat_minor": 5
}
